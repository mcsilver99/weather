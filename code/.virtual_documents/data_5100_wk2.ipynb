


# Import pandas, numpy, and matplotlib
import pandas as pd
import numpy as np
import matplotlib.pyplot as plt

# seaborn is a data visualization library built on matplotlib
import seaborn as sns

# set the plotting style
sns.set_style("whitegrid")





df = pd.read_csv('https://raw.githubusercontent.com/mcsilver99/weather/main/data/clean_seattle_stlouis_weather.csv')





plt.figure(figsize=(20,5))
sns.lineplot(data=df, x = 'date', y = 'precipitation', hue = 'city')

plt.xlabel('Date', fontsize=15) 
plt.ylabel('Daily precipitation (inches)', fontsize=15)

plt.tick_params(labelsize=15)

plt.show()








df[['city', 'precipitation']].groupby('city').describe()


df[['city', 'precipitation']].groupby('city').mean()








sns.barplot(data=df, x='city', y ='precipitation')

plt.ylabel('Precipitation (inches)', fontsize=15)
plt.xlabel('City', fontsize=15)
plt.title('Mean Daily Precipitation', fontsize=15)

plt.tick_params(labelsize=15)

plt.show()








df['month'] = pd.DatetimeIndex(df['date']).month


df.head()


df['month'].unique





plt.figure(figsize=(20,4))

sns.boxplot(data=df, x='month', y='precipitation', hue='city') #hue breaks out by city

plt.xlabel('Month', fontsize=15)
plt.ylabel('Precipitation (inches)', fontsize=15)

plt.tick_params(labelsize=15)

# Get month names and set as x-axis tick labels
import calendar
month_names= list(calendar.month_name[1:]) # Get month names
plt.xticks(ticks=range(12), labels=month_names) # Set x-axis to month names

plt.show()








plt.figure(figsize=(15,8))

sns.boxplot(data=df, x='precipitation', y='month',  hue='city', orient='h') 

plt.ylabel('Month', fontsize=15)
plt.xlabel('Precipitation (inches)', fontsize=15)

plt.tick_params(labelsize=15)

plt.yticks(ticks=range(12), labels=month_names)

plt.show()
           








plt.figure(figsize=(20,4))

sns.boxplot(data=df, x='month', y='precipitation', hue='city')

plt.xlabel('Month', fontsize=15)
plt.ylabel('Precipitation (inches)', fontsize=15)

plt.tick_params(labelsize=15)

plt.xticks(ticks=range(12), labels=month_names)

plt.ylim(0, 0.4)

plt.show()








plt.figure(figsize=(20,4))

sns.barplot(data=df, x='month', y='precipitation', hue='city') 

plt.xlabel('Month', fontsize=15)
plt.ylabel('Precipitation (inches)', fontsize=15)

plt.tick_params(labelsize=15)

plt.xticks(ticks=range(12), labels=month_names) # Set x-axis to month names

plt.show()








df[['month', 'precipitation', 'city']].groupby(['city', 'month']).mean()





df['any_precipitation'] = df['precipitation'] > 0


df.head()





sns.barplot(data=df, x='city', y='any_precipitation', errorbar=None) 

plt.xlabel('City', fontsize=15)
plt.ylabel('Proportion days with precipitation', fontsize=15)

plt.tick_params(labelsize=15)

plt.show()








plt.figure(figsize=(20,4))

sns.barplot(data=df, x='month', y='any_precipitation', hue='city') 

plt.xlabel(None)
plt.ylabel('Proportion days with precipitation', fontsize=13)

plt.xticks(ticks=range(12), labels=month_names)
plt.tick_params(labelsize=15)

plt.show()














plt.figure(figsize=(5,4))

sns.histplot(data=df.loc[df['month'] == 1], x='precipitation', hue='city') 

plt.xlabel('Precipitation (inches)', fontsize=15)
plt.ylabel('Number of days', fontsize=15)
plt.title('Precipitation in January', fontsize=15)

plt.tick_params(labelsize=15)

plt.show








from scipy import stats


significance_level = 0.05
significantly_different = np.zeros(12)

# Perform t-test for each month
for month in range(1,13): 
    #Get precipitation data for Seattle and St.Louis for the current month
    sea_data = df.loc[(df['city'] == 'SEA') & (df['month'] == month), 'precipitation']
    stl_data = df.loc[(df['city'] == 'STL') & (df['month'] == month), 'precipitation']

    t_statistic, p_value = stats.ttest_ind(sea_data, stl_data, equal_var=False)

    if p_value < significance_level: 
        significantly_different[month-1] = 1

    print(f"Month {month}:")
    print(f" t-statistic = {t_statistic:.2f}")
    print(f" p-value t test = {p_value:.3f}")
    print ("-" * 20)









plt.figure(figsize=(20,4))

sns.barplot(data=df, x='month', y='precipitation', hue='city', alpha=0.75) 

plt.xlabel('Month', fontsize=15)
plt.ylabel('Precipitation (inches)', fontsize=15)
plt.title('Mean monthly precipitation', fontsize=15)

plt.tick_params(labelsize=15)

plt.xticks(ticks=range(12), labels=month_names)

# Add stars for significantly different months
for month in range(12):
    if significantly_different[month] == 1:
        # Add a star
        plt.text(month, 0.3, '*', ha='center', fontsize=25)

plt.show()








from statsmodels.stats.proportion import proportions_ztest

significance_level = 0.05
significantly_different_proportion = np.zeros(12)

# Perform t-test for each month
for month in range(1,13):
    # Create a contingency table for Seattle and St.Louis for the current month: 
    contingency_table = pd.crosstab(df.loc[df['month'] == month, 'city'], df.loc[df['month'] == month, 'any_precipitation'])

    # Calculate the number of True values (days with precipitation) for each city
    days_with_precipitation = contingency_table[True]
    
    # Calculate the total number of days for each city 
    total_counts = contingency_table.sum(axis=1)

    # Hypothesis test
    zstat, p_value = proportions_ztest(count=days_with_precipitation, nobs=total_counts, alternative='two-sided')

    if p_value < significance_level: 
        significantly_different_proportion[month-1] = 1
        
    print(f"Month {month}:")
    print(f" z-statistic = {zstat:.2f}")
    print(f" p-value = {p_value:.3f}")
    print ("-" * 20)
    








plt.figure(figsize=(20,4))

sns.barplot(data=df, x='month', y='any_precipitation', hue='city', alpha=0.75) 

plt.xlabel(None)
plt.ylabel('Proportion of days with precipitation', fontsize=13)
plt.title('Monthly proportion of days with precipitation', fontsize=15)

plt.tick_params(labelsize=15)

plt.xticks(ticks=range(12), labels=month_names)

# Add stars for significantly different months
for month in range(12):
    if significantly_different_proportion[month] == 1:
        # Add a star
        plt.text(month, 0.825, '*', ha='center', fontsize=25)

plt.show()



