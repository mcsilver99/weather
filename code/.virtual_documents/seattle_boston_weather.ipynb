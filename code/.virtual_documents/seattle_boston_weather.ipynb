











# Import pandas, numpy, and matplotlib
import pandas as pd
import numpy as np
import matplotlib.pyplot as plt

# seaborn is a data visualization library built on matplotlib
import seaborn as sns

# set the plotting style
sns.set_style("whitegrid")








df_seattle = pd.read_csv('https://raw.githubusercontent.com/mcsilver99/weather/main/data/seattle_rain.csv')





df_boston = pd.read_csv('https://raw.githubusercontent.com/mcsilver99/weather/main/data/boston_rain.csv')








df_boston.head()


df_seattle.head()








df_boston.info()








df_seattle.info()








df_boston['STATION'].nunique()








df_boston['DATE']





df_seattle['DATE']











df_seattle['DATE'] = pd.to_datetime(df_seattle['DATE'])


df_boston['DATE'] = pd.to_datetime(df_boston['DATE'])





df = df_boston[['DATE', 'PRCP']].merge(df_seattle[['DATE', 'PRCP']], on='DATE', how='outer')





df = pd.melt(df, id_vars='DATE', var_name='city', value_name='precipitation')





df.loc[df['city'] == 'PRCP_x', 'city'] = 'BOS'


df.loc[df['city'] == 'PRCP_y', 'city'] = 'SEA'





df = df.rename(columns={'DATE': 'date'})








df['day_of_year'] = pd.DatetimeIndex(df['date']).day_of_year





mean_day_precipitation = df.loc[df['city'] == 'SEA',['precipitation', 'day_of_year']].groupby('day_of_year').mean()





indices = np.where(df['precipitation'].isna() == True)[0]





for index in indices:
    df.loc[index, 'precipitation'] = mean_day_precipitation.loc[df.loc[index,'day_of_year']].values[0]





df.isna().sum()











plt.figure(figsize=(20,5))
sns.lineplot(data=df, x = 'date', y = 'precipitation', hue = 'city')

plt.xlabel('Date', fontsize=15) 
plt.ylabel('Daily precipitation (inches)', fontsize=15)

plt.tick_params(labelsize=15)

plt.show()








df[['city', 'precipitation']].groupby('city').describe()








sns.barplot(data=df, x='city', y ='precipitation', hue='city')

plt.ylabel('Precipitation (inches)', fontsize=15)
plt.xlabel('City', fontsize=15)
plt.title('Mean Daily Precipitation', fontsize=15)

plt.tick_params(labelsize=15)

plt.show()








df['month'] = pd.DatetimeIndex(df['date']).month








plt.figure(figsize=(15,8))

sns.boxplot(data=df, x='precipitation', y='month',  hue='city', orient='h') 

plt.ylabel('Month', fontsize=15)
plt.xlabel('Precipitation (inches)', fontsize=15)

plt.tick_params(labelsize=15)

plt.yticks(ticks=range(12), labels=month_names)

plt.show()








plt.figure(figsize=(20,4))

sns.barplot(data=df, x='month', y='precipitation', hue='city') 

plt.xlabel('Month', fontsize=15)
plt.ylabel('Precipitation (inches)', fontsize=15)

plt.tick_params(labelsize=15)

plt.xticks(ticks=range(12), labels=month_names) # Set x-axis to month names

plt.show()














df['any_precipitation'] = df['precipitation'] > 0


df.head()





sns.barplot(data=df, x='city', y='any_precipitation', errorbar=None) 

plt.xlabel('City', fontsize=15)
plt.ylabel('Proportion days with precipitation', fontsize=15)

plt.tick_params(labelsize=15)
plt.title('Proportion of Days with Precipitation', fontsize=15)

plt.show()








plt.figure(figsize=(20,4))

sns.barplot(data=df, x='month', y='any_precipitation', hue='city') 

plt.xlabel(None)
plt.ylabel('Proportion days with precipitation', fontsize=13)

plt.xticks(ticks=range(12), labels=month_names)
plt.tick_params(labelsize=15)

plt.show()

















from scipy import stats


significance_level = 0.05
significantly_different = np.zeros(12)

# Perform t-test for each month
for month in range(1,13): 
    #Get precipitation data for Seattle and Boston for the current month
    sea_data = df.loc[(df['city'] == 'SEA') & (df['month'] == month), 'precipitation']
    bos_data = df.loc[(df['city'] == 'BOS') & (df['month'] == month), 'precipitation']

    t_statistic, p_value = stats.ttest_ind(sea_data, bos_data, equal_var=False)

    if p_value < significance_level: 
        significantly_different[month-1] = 1

    print(f"Month {month}:")
    print(f" t-statistic = {t_statistic:.2f}")
    print(f" p-value t test = {p_value:.3f}")
    print ("-" * 20)








plt.figure(figsize=(20,5))

sns.barplot(data=df, x='month', y='precipitation', hue='city', alpha=0.75) 

plt.xlabel('Month', fontsize=15)
plt.ylabel('Precipitation (inches)', fontsize=15)
plt.title('Mean monthly precipitation', fontsize=15)

plt.tick_params(labelsize=15)

plt.xticks(ticks=range(12), labels=month_names)

# Add stars for significantly different months
for month in range(12):
    if significantly_different[month] == 1:
        # Add a star
        plt.text(month, 0.25, '*', ha='center', fontsize=25)

plt.show()











from statsmodels.stats.proportion import proportions_ztest

significance_level = 0.05
significantly_different_proportion = np.zeros(12)

# Perform t-test for each month
for month in range(1,13):
    # Create a contingency table for Seattle and St.Louis for the current month: 
    contingency_table = pd.crosstab(df.loc[df['month'] == month, 'city'], df.loc[df['month'] == month, 'any_precipitation'])

    # Calculate the number of True values (days with precipitation) for each city
    days_with_precipitation = contingency_table[True]
    
    # Calculate the total number of days for each city 
    total_counts = contingency_table.sum(axis=1)

    # Hypothesis test
    zstat, p_value = proportions_ztest(count=days_with_precipitation, nobs=total_counts, alternative='two-sided')

    if p_value < significance_level: 
        significantly_different_proportion[month-1] = 1
        
    print(f"Month {month}:")
    print(f" z-statistic = {zstat:.2f}")
    print(f" p-value = {p_value:.3f}")
    print ("-" * 20)








plt.figure(figsize=(20,4))

sns.barplot(data=df, x='month', y='any_precipitation', hue='city', alpha=0.75) 

plt.xlabel(None)
plt.ylabel('Proportion of days with precipitation', fontsize=13)
plt.title('Monthly proportion of days with precipitation', fontsize=15)

plt.tick_params(labelsize=15)

plt.xticks(ticks=range(12), labels=month_names)

# Add stars for significantly different months
for month in range(12):
    if significantly_different_proportion[month] == 1:
        # Add a star
        plt.text(month, 0.825, '*', ha='center', fontsize=25)

plt.show()



