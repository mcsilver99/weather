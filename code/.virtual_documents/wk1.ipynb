midpoint = 5 

# Comment 
lower = []; upper = []

for i in range (10):
    if (i < midpoint):
        lower.append (i)
    else: 
        upper.append(i)

print("lower:", lower)
print("upper:", upper)


2/3


2//3


3//2


2**3


# bitwise operations
bin(7)


25%2 == 0


# only numbers from -5 to 256 are recognized as the same object when using 'is' operator
a = 5
b = 5
a == b
a is b # TRUE
c = 300
d = 300 
c == d
c is d # FALSE



x = "I'd /&*("
print(x)


x = 'hello'
3*x


y = "friend"
x + " " + y


x[1]



# None - represents empty, null, void
# 



a = [1, 2, 3]

b = a

print(a is b)


a = 'aaa'

b = a

a += 'bbb'

print(b)


type(a)


4^3


bin(4)



bin(3)



bin(4) ^ bin(3)


False and False


13//4



x = 'aaabbbccc'
xx = x.replace('b', 'd')
print(xx)


bool(" ") 



bool([ ]) 


bool(5-5)


bool([0])


x = ['a', 'b', 'c']

y = ["a", "b", "c"]

print(x == y)


x = ['a', ['e', 'f'], 'c']
y = x.copy()
x[1].append('g')
print(y)


bin(3)


bin(4)





13//4


x = 'aaabbbccc'

xx = x.replace('b', 'd')

print(xx)


bool(" ") 


bool([ ]) 



bool(5-5) 


bool([ 0 ]) 


x = ['a', 'b', 'c']

y = ["a", "b", "c"]

print(x == y)


print('I said: "I/'d like to go"') 


print('I said: "I\'d like to go!"')



