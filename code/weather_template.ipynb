{
 "cells": [
  {
   "cell_type": "markdown",
   "metadata": {
    "id": "CT4gTNQTh9n1"
   },
   "source": [
    "# Load and explore the data"
   ]
  },
  {
   "cell_type": "markdown",
   "metadata": {
    "id": "dwvtDMCYlPus"
   },
   "source": [
    "## Import libraries"
   ]
  },
  {
   "cell_type": "code",
   "execution_count": null,
   "metadata": {
    "id": "DQZAzYri_ru5"
   },
   "outputs": [],
   "source": [
    "# Import pandas, numpy, and matplotlib\n",
    "import pandas as pd\n",
    "import numpy as np\n",
    "import matplotlib.pyplot as plt\n",
    "\n",
    "# seaborn is a data visualization library built on matplotlib\n",
    "import seaborn as sns\n",
    "\n",
    "# set the plotting style\n",
    "sns.set_style(\"whitegrid\")"
   ]
  },
  {
   "cell_type": "markdown",
   "metadata": {
    "id": "5qccuG8vy7Ja"
   },
   "source": [
    "## Load the data"
   ]
  },
  {
   "cell_type": "markdown",
   "metadata": {
    "id": "xYdcJWUhIc8U"
   },
   "source": [
    "##### Load the Seattle data set"
   ]
  },
  {
   "cell_type": "markdown",
   "metadata": {
    "id": "YI_VqZ2-JI2_"
   },
   "source": [
    "##### Load the Boston data set"
   ]
  },
  {
   "cell_type": "markdown",
   "metadata": {
    "id": "OHVSgzXFd4nf"
   },
   "source": [
    "## Explore the contents of the data sets"
   ]
  },
  {
   "cell_type": "markdown",
   "metadata": {
    "id": "gYxy4Sy6d9_j"
   },
   "source": [
    "##### Start by looking at the head of each data frame.\n",
    "\n",
    "This will let us see the names of the columns and a few example values for each column."
   ]
  },
  {
   "cell_type": "markdown",
   "metadata": {
    "id": "El2gEjGnBtyy"
   },
   "source": [
    "##### Examine more rows"
   ]
  },
  {
   "cell_type": "markdown",
   "metadata": {
    "id": "B_fXWBr_KhR2"
   },
   "source": [
    "##### St. Louis data set"
   ]
  },
  {
   "cell_type": "markdown",
   "metadata": {
    "id": "7zDNxnE9LRF4"
   },
   "source": [
    "##### Are the columns are the same?"
   ]
  },
  {
   "cell_type": "markdown",
   "metadata": {
    "id": "e0IEtgl8eRkv"
   },
   "source": [
    "##### Use the `info` method to check the data types, size of the data frame, and numbers of missing values."
   ]
  },
  {
   "cell_type": "markdown",
   "metadata": {
    "id": "n9ZuQl9HB-mA"
   },
   "source": [
    "##### St. Louis data set"
   ]
  },
  {
   "cell_type": "markdown",
   "metadata": {
    "id": "RxbRRmQRMYZd"
   },
   "source": [
    "##### We can also compare data frame sizes using the shape attribute"
   ]
  },
  {
   "cell_type": "markdown",
   "metadata": {
    "id": "Oa64TsxsL9aF"
   },
   "source": [
    "## Why might the St. Louis data set be larger?"
   ]
  },
  {
   "cell_type": "markdown",
   "metadata": {
    "id": "qYE9-4tcL_z-"
   },
   "source": [
    "<pre>\n",
    "\n",
    "\n",
    "\n",
    "\n",
    "\n",
    "\n",
    "\n",
    "\n",
    "\n",
    "\n",
    "\n",
    "\n",
    "\n",
    "\n",
    "\n",
    "\n",
    "\n",
    "\n",
    "\n",
    "\n",
    "\n",
    "\n",
    "\n",
    "\n",
    "\n",
    "\n",
    "\n",
    "\n",
    "\n",
    "\n",
    "\n",
    "</pre>"
   ]
  },
  {
   "cell_type": "markdown",
   "metadata": {
    "id": "wLtJTlMLMthz"
   },
   "source": [
    "#### Examine the `STATION` column"
   ]
  },
  {
   "cell_type": "markdown",
   "metadata": {
    "id": "T5cUb34RM4Ky"
   },
   "source": [
    "##### How many unique stations are present?"
   ]
  },
  {
   "cell_type": "markdown",
   "metadata": {
    "id": "w0-RCjYSNSrt"
   },
   "source": [
    "#### Examine the `DATE` column"
   ]
  },
  {
   "cell_type": "markdown",
   "metadata": {
    "id": "m2ifRKAEN0pX"
   },
   "source": [
    "### Be careful to use correct data types"
   ]
  },
  {
   "cell_type": "markdown",
   "metadata": {
    "id": "9xo4fNHiNoID"
   },
   "source": [
    "### Convert `DATE` to datetime"
   ]
  },
  {
   "cell_type": "markdown",
   "metadata": {
    "id": "ynybUlKfQNFq"
   },
   "source": [
    "### What range of dates are present?"
   ]
  },
  {
   "cell_type": "markdown",
   "metadata": {
    "id": "UCVBxFyURV9L"
   },
   "source": [
    "### Are the data suitable for answering the question?"
   ]
  },
  {
   "cell_type": "markdown",
   "metadata": {
    "id": "nwO8wa426gF8"
   },
   "source": [
    "Plot the daily precipitation data for Seattle."
   ]
  },
  {
   "cell_type": "markdown",
   "metadata": {
    "id": "09DgwEWbSLod"
   },
   "source": [
    "##### Plot the daily precipitation data for St. Louis."
   ]
  },
  {
   "cell_type": "markdown",
   "metadata": {
    "id": "tNt9nJ6u9Et8"
   },
   "source": [
    "## Tutorial: Selecting subsets of a DataFrame"
   ]
  },
  {
   "cell_type": "code",
   "execution_count": null,
   "metadata": {
    "id": "Hu6SS5fd9H_h"
   },
   "outputs": [],
   "source": [
    "df_seattle.head()"
   ]
  },
  {
   "cell_type": "markdown",
   "metadata": {
    "id": "DpHQyUxj2-AT"
   },
   "source": [
    "### Select one column"
   ]
  },
  {
   "cell_type": "markdown",
   "metadata": {
    "id": "lzCQvte_zCCR"
   },
   "source": [
    "Select the column containing precipitation `PRCP`."
   ]
  },
  {
   "cell_type": "markdown",
   "metadata": {
    "id": "uy5nfFEV5vhq"
   },
   "source": [
    "#### Use dictionary-style indexing"
   ]
  },
  {
   "cell_type": "markdown",
   "metadata": {
    "id": "BaVDnTNSye-b"
   },
   "source": [
    "#### Use explicit array-style indexing with loc"
   ]
  },
  {
   "cell_type": "markdown",
   "metadata": {
    "id": "FcZ0LVCq-EiA"
   },
   "source": [
    "#### Use implicit array-style indexing with `.iloc`"
   ]
  },
  {
   "cell_type": "markdown",
   "metadata": {
    "id": "h47_k_c1-G6F"
   },
   "source": [
    "What number column, starting with 0, is `PRCP`?"
   ]
  },
  {
   "cell_type": "code",
   "execution_count": null,
   "metadata": {
    "id": "xyAgMjtt-E_9"
   },
   "outputs": [],
   "source": [
    "df_seattle.head()"
   ]
  },
  {
   "cell_type": "markdown",
   "metadata": {
    "id": "C-8eE8X-UWGG"
   },
   "source": [
    "##### Use implicit array-style indexing with `.iloc`"
   ]
  },
  {
   "cell_type": "markdown",
   "metadata": {
    "id": "bZ33GRss-aHB"
   },
   "source": [
    "### Select multiple columns"
   ]
  },
  {
   "cell_type": "markdown",
   "metadata": {
    "id": "AHcoqO2Z-f8I"
   },
   "source": [
    "Select the columns containing `STATION`, `DATE`, and precipitation `PRCP`."
   ]
  },
  {
   "cell_type": "markdown",
   "metadata": {
    "id": "m666RYW2UgSd"
   },
   "source": [
    "##### Use .loc"
   ]
  },
  {
   "cell_type": "markdown",
   "metadata": {
    "id": "D8bEkCX1UkFs"
   },
   "source": [
    "##### Use .iloc"
   ]
  },
  {
   "cell_type": "markdown",
   "metadata": {
    "id": "gLcEXsWnXzrF"
   },
   "source": [
    "#### Select a range of columns"
   ]
  },
  {
   "cell_type": "markdown",
   "metadata": {
    "id": "XD3EmZhN_AGu"
   },
   "source": [
    "Select all columns from `STATION` through `PRCP`"
   ]
  },
  {
   "cell_type": "markdown",
   "metadata": {
    "id": "LAR17TKQVF6z"
   },
   "source": [
    "##### Use .iloc"
   ]
  },
  {
   "cell_type": "markdown",
   "metadata": {
    "id": "KHme4XUXdIBa"
   },
   "source": [
    "### Select the first $n$ rows"
   ]
  },
  {
   "cell_type": "markdown",
   "metadata": {
    "id": "U7T3l6Py_cuz"
   },
   "source": [
    "Select the first 3 rows"
   ]
  },
  {
   "cell_type": "markdown",
   "metadata": {
    "id": "YhskQB9oe-ce"
   },
   "source": [
    "Use the `.head()` method"
   ]
  },
  {
   "cell_type": "markdown",
   "metadata": {
    "id": "a0btb4nKZQnS"
   },
   "source": [
    "##### Use explicit indexing"
   ]
  },
  {
   "cell_type": "markdown",
   "metadata": {
    "id": "Wcuf0QrhZR49"
   },
   "source": [
    "##### Use implicit indexing"
   ]
  },
  {
   "cell_type": "markdown",
   "metadata": {
    "id": "KtVTDD7rpQrF"
   },
   "source": [
    "### Select the last $n$ rows"
   ]
  },
  {
   "cell_type": "markdown",
   "metadata": {
    "id": "WJ0TD2nOpQrO"
   },
   "source": [
    "Use the `.tail()` method"
   ]
  },
  {
   "cell_type": "markdown",
   "metadata": {
    "id": "Ww_y64wFpQrR"
   },
   "source": [
    "##### Use explicit indexing"
   ]
  },
  {
   "cell_type": "markdown",
   "metadata": {
    "id": "yvpePT8-pQrQ"
   },
   "source": [
    "##### Use implicit indexing"
   ]
  },
  {
   "cell_type": "markdown",
   "metadata": {
    "id": "vjQwc6U2eudp"
   },
   "source": [
    "### Select rows using logical indexing"
   ]
  },
  {
   "cell_type": "markdown",
   "metadata": {
    "id": "6gW-YJnnyQiT"
   },
   "source": [
    "Select the rows where `PRCP` is greater than 0."
   ]
  },
  {
   "cell_type": "markdown",
   "metadata": {
    "id": "8KtJZKYyp8CH"
   },
   "source": [
    "##### Select the rows where the precipitation is between 0.5 and 0.75 inches."
   ]
  },
  {
   "cell_type": "markdown",
   "metadata": {
    "id": "krX-By1ZBa4R"
   },
   "source": [
    "## Select relevant subsets of the data"
   ]
  },
  {
   "cell_type": "markdown",
   "metadata": {
    "id": "7VVOuonocRqK"
   },
   "source": [
    "We saw that the St. Louis data set contains data prior to 2018."
   ]
  },
  {
   "cell_type": "code",
   "execution_count": null,
   "metadata": {
    "id": "MImmswQEqDQL"
   },
   "outputs": [],
   "source": [
    "df_stlouis.head()"
   ]
  },
  {
   "cell_type": "markdown",
   "metadata": {
    "id": "XcKpBqUpqaYA"
   },
   "source": [
    "##### Limit the St. Louis data to 2018 and beyond."
   ]
  },
  {
   "cell_type": "markdown",
   "metadata": {
    "id": "5zExx7BE1ANz"
   },
   "source": [
    "##### The St. Louis data set has values for many weather stations, while the Seattle data set has only one weather station.\n",
    "\n",
    "We will focus on the data from the airport in St. Louis."
   ]
  },
  {
   "cell_type": "markdown",
   "metadata": {
    "id": "BkCnFJdVryvv"
   },
   "source": [
    "## Join data frames keeping `DATE` and `PRCP` columns"
   ]
  },
  {
   "cell_type": "code",
   "execution_count": null,
   "metadata": {
    "id": "5LOkkNFcX8kb"
   },
   "outputs": [],
   "source": [
    "df_seattle.head(2)"
   ]
  },
  {
   "cell_type": "code",
   "execution_count": null,
   "metadata": {
    "id": "QMqVks4fX58g"
   },
   "outputs": [],
   "source": [
    "df_stlouis.head(2)"
   ]
  },
  {
   "cell_type": "markdown",
   "metadata": {
    "id": "xdy2dKjrv0-d"
   },
   "source": [
    "**What type of join should we do?**"
   ]
  },
  {
   "cell_type": "markdown",
   "metadata": {
    "id": "zPNbKGC1JDkp"
   },
   "source": [
    "##### Use a join to keep all dates present"
   ]
  },
  {
   "cell_type": "markdown",
   "metadata": {
    "id": "7HTfg4ZpsN1P"
   },
   "source": [
    "Each DataFrame had a column named `PRCP`, so the default is to add suffixes _x and _y to differentiate the columns. Normally, I would rename the columns at this point to something more informative. However, I know that I want to convert the DataFrame to a tidy format and I will modify the names later."
   ]
  },
  {
   "cell_type": "markdown",
   "metadata": {
    "id": "TklEWrlhsEiQ"
   },
   "source": [
    "### Create a tidy data frame with columns for city and precipitation"
   ]
  },
  {
   "cell_type": "code",
   "execution_count": null,
   "metadata": {
    "id": "PDutvglumIOg"
   },
   "outputs": [],
   "source": [
    "df"
   ]
  },
  {
   "cell_type": "markdown",
   "metadata": {
    "id": "5PNjVV4QgOuz"
   },
   "source": [
    "How did this change the DataFrame?"
   ]
  },
  {
   "cell_type": "code",
   "execution_count": null,
   "metadata": {
    "id": "AFStfLoNmf-I"
   },
   "outputs": [],
   "source": [
    "df.head()"
   ]
  },
  {
   "cell_type": "markdown",
   "metadata": {
    "id": "bnngJvdDiCbS"
   },
   "source": [
    "### Rename columns or values to follow best practices"
   ]
  },
  {
   "cell_type": "markdown",
   "metadata": {
    "id": "Au8SCopULgXT"
   },
   "source": [
    "Rename the city values 'STL' and 'SEA'"
   ]
  },
  {
   "cell_type": "markdown",
   "metadata": {
    "id": "KzbDZf1d4BpT"
   },
   "source": [
    "##### Rename the columns to be lowercase using `df.rename()`"
   ]
  },
  {
   "cell_type": "markdown",
   "metadata": {
    "id": "aAaUY6N1rtoa"
   },
   "source": [
    "## Identify and fill in missing values"
   ]
  },
  {
   "cell_type": "markdown",
   "metadata": {
    "id": "AtkhvgvlCBdw"
   },
   "source": [
    "Data can be missing in multiple manners:\n",
    "1. Values are `NaN` in the data frame"
   ]
  },
  {
   "cell_type": "markdown",
   "metadata": {
    "id": "yqbdb5CvCRFM"
   },
   "source": [
    "2.  Values are not included in the data set."
   ]
  },
  {
   "cell_type": "markdown",
   "metadata": {
    "id": "fvrV7uD0mzG6"
   },
   "source": [
    "### Count the non-null or null values"
   ]
  },
  {
   "cell_type": "markdown",
   "metadata": {
    "id": "Q1rA_SSUPyUT"
   },
   "source": [
    "Determine the number of non-null values in each column."
   ]
  },
  {
   "cell_type": "markdown",
   "metadata": {
    "id": "9rgs-UvovTga"
   },
   "source": [
    "##### Determine the number of null values in each column."
   ]
  },
  {
   "cell_type": "markdown",
   "metadata": {
    "id": "ceiU_nolviBn"
   },
   "source": [
    "##### Determine the number of null precipitation values for Seattle and St. Louis."
   ]
  },
  {
   "cell_type": "markdown",
   "metadata": {
    "id": "AKd8Izs4CvfC"
   },
   "source": [
    "##### The St. Louis data set does not have any `NaN` values of `precipitation`. Are any dates omitted?\n",
    "\n",
    "**How many data points should we have from 2018 to 2022?**"
   ]
  },
  {
   "cell_type": "markdown",
   "metadata": {
    "id": "7W_iTvjbXx8_"
   },
   "source": [
    "### Impute missing values"
   ]
  },
  {
   "cell_type": "markdown",
   "metadata": {
    "id": "3OTbPI91dMOB"
   },
   "source": [
    "We will replace missing values with the mean across years of values on that day.\n",
    "\n",
    "\n",
    "**Design an algorithm for replacing missing values with the mean across years of values on that day.**"
   ]
  },
  {
   "cell_type": "markdown",
   "metadata": {
    "id": "oKGHtonZsZCM"
   },
   "source": [
    "## Export the clean .csv file"
   ]
  },
  {
   "cell_type": "code",
   "execution_count": null,
   "metadata": {
    "id": "EqBz9TkxKp5-"
   },
   "outputs": [],
   "source": [
    "df.to_csv('clean_seattle_stlouis_weather.csv', encoding='utf-8-sig', index=False)"
   ]
  }
 ],
 "metadata": {
  "colab": {
   "provenance": [],
   "toc_visible": true
  },
  "kernelspec": {
   "display_name": "Python 3 (ipykernel)",
   "language": "python",
   "name": "python3"
  },
  "language_info": {
   "codemirror_mode": {
    "name": "ipython",
    "version": 3
   },
   "file_extension": ".py",
   "mimetype": "text/x-python",
   "name": "python",
   "nbconvert_exporter": "python",
   "pygments_lexer": "ipython3",
   "version": "3.13.7"
  }
 },
 "nbformat": 4,
 "nbformat_minor": 4
}
