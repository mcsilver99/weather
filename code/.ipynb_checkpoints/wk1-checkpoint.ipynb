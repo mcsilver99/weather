{
 "cells": [
  {
   "cell_type": "code",
   "execution_count": 1,
   "id": "35611a12-402d-499f-a2f8-32d4227644c3",
   "metadata": {},
   "outputs": [
    {
     "name": "stdout",
     "output_type": "stream",
     "text": [
      "lower: [0, 1, 2, 3, 4]\n",
      "upper: [5, 6, 7, 8, 9]\n"
     ]
    }
   ],
   "source": [
    "midpoint = 5 \n",
    "\n",
    "# Comment \n",
    "lower = []; upper = []\n",
    "\n",
    "for i in range (10):\n",
    "    if (i < midpoint):\n",
    "        lower.append (i)\n",
    "    else: \n",
    "        upper.append(i)\n",
    "\n",
    "print(\"lower:\", lower)\n",
    "print(\"upper:\", upper)"
   ]
  },
  {
   "cell_type": "code",
   "execution_count": 2,
   "id": "1d18d9f6-8a2c-4bb9-ae07-d4356e3d6071",
   "metadata": {},
   "outputs": [
    {
     "data": {
      "text/plain": [
       "0.6666666666666666"
      ]
     },
     "execution_count": 2,
     "metadata": {},
     "output_type": "execute_result"
    }
   ],
   "source": [
    "2/3"
   ]
  },
  {
   "cell_type": "code",
   "execution_count": 3,
   "id": "5ff6bb06-eece-454b-ac9b-5aac32a8c8a9",
   "metadata": {},
   "outputs": [
    {
     "data": {
      "text/plain": [
       "0"
      ]
     },
     "execution_count": 3,
     "metadata": {},
     "output_type": "execute_result"
    }
   ],
   "source": [
    "2//3"
   ]
  },
  {
   "cell_type": "code",
   "execution_count": 4,
   "id": "f2d2961a-917b-4963-9a83-672da2d0a1b8",
   "metadata": {},
   "outputs": [
    {
     "data": {
      "text/plain": [
       "1"
      ]
     },
     "execution_count": 4,
     "metadata": {},
     "output_type": "execute_result"
    }
   ],
   "source": [
    "3//2"
   ]
  },
  {
   "cell_type": "code",
   "execution_count": 5,
   "id": "61b7c165-d85f-420c-a74e-19c2794f3157",
   "metadata": {},
   "outputs": [
    {
     "data": {
      "text/plain": [
       "8"
      ]
     },
     "execution_count": 5,
     "metadata": {},
     "output_type": "execute_result"
    }
   ],
   "source": [
    "2**3"
   ]
  },
  {
   "cell_type": "code",
   "execution_count": 8,
   "id": "e05f02fb-944e-488b-b304-c2263bafd09d",
   "metadata": {},
   "outputs": [
    {
     "data": {
      "text/plain": [
       "'0b111'"
      ]
     },
     "execution_count": 8,
     "metadata": {},
     "output_type": "execute_result"
    }
   ],
   "source": [
    "# bitwise operations\n",
    "bin(7)"
   ]
  },
  {
   "cell_type": "code",
   "execution_count": 9,
   "id": "8ef66c4d-01e5-4eb7-a53e-ded60017fa14",
   "metadata": {},
   "outputs": [
    {
     "data": {
      "text/plain": [
       "False"
      ]
     },
     "execution_count": 9,
     "metadata": {},
     "output_type": "execute_result"
    }
   ],
   "source": [
    "25%2 == 0"
   ]
  },
  {
   "cell_type": "code",
   "execution_count": 12,
   "id": "b4f6286f-e81f-448a-96a0-512d411de6e6",
   "metadata": {},
   "outputs": [
    {
     "data": {
      "text/plain": [
       "False"
      ]
     },
     "execution_count": 12,
     "metadata": {},
     "output_type": "execute_result"
    }
   ],
   "source": [
    "# only numbers from -5 to 256 are recognized as the same object when using 'is' operator\n",
    "a = 5\n",
    "b = 5\n",
    "a == b\n",
    "a is b # TRUE\n",
    "c = 300\n",
    "d = 300 \n",
    "c == d\n",
    "c is d # FALSE\n"
   ]
  },
  {
   "cell_type": "code",
   "execution_count": 13,
   "id": "62e6d3d4-478d-4756-ac7b-6b728231111d",
   "metadata": {},
   "outputs": [
    {
     "name": "stdout",
     "output_type": "stream",
     "text": [
      "I'd /&*(\n"
     ]
    }
   ],
   "source": [
    "x = \"I'd /&*(\"\n",
    "print(x)"
   ]
  },
  {
   "cell_type": "code",
   "execution_count": 14,
   "id": "76065175-c298-41b9-8ddf-7a509ba876b2",
   "metadata": {},
   "outputs": [
    {
     "data": {
      "text/plain": [
       "'hellohellohello'"
      ]
     },
     "execution_count": 14,
     "metadata": {},
     "output_type": "execute_result"
    }
   ],
   "source": [
    "x = 'hello'\n",
    "3*x"
   ]
  },
  {
   "cell_type": "code",
   "execution_count": 15,
   "id": "9d0a1d4e-cf30-473e-aef9-cea379a66bb6",
   "metadata": {},
   "outputs": [
    {
     "data": {
      "text/plain": [
       "'hello friend'"
      ]
     },
     "execution_count": 15,
     "metadata": {},
     "output_type": "execute_result"
    }
   ],
   "source": [
    "y = \"friend\"\n",
    "x + \" \" + y"
   ]
  },
  {
   "cell_type": "code",
   "execution_count": 16,
   "id": "395b016c-0b9b-4eb1-b788-b62a1ce43fc9",
   "metadata": {},
   "outputs": [
    {
     "data": {
      "text/plain": [
       "'e'"
      ]
     },
     "execution_count": 16,
     "metadata": {},
     "output_type": "execute_result"
    }
   ],
   "source": [
    "x[1]\n"
   ]
  },
  {
   "cell_type": "code",
   "execution_count": null,
   "id": "5927b48b-ec7c-4136-8325-5846771a068f",
   "metadata": {},
   "outputs": [],
   "source": [
    "# None - represents empty, null, void\n",
    "# \n"
   ]
  },
  {
   "cell_type": "code",
   "execution_count": 17,
   "id": "a7794428-5ba7-4810-acd3-9d47eded37a2",
   "metadata": {},
   "outputs": [
    {
     "name": "stdout",
     "output_type": "stream",
     "text": [
      "True\n"
     ]
    }
   ],
   "source": [
    "a = [1, 2, 3]\n",
    "\n",
    "b = a\n",
    "\n",
    "print(a is b)"
   ]
  },
  {
   "cell_type": "code",
   "execution_count": 18,
   "id": "04a58929-e9ed-4b98-9210-f5829d92eb7c",
   "metadata": {},
   "outputs": [
    {
     "name": "stdout",
     "output_type": "stream",
     "text": [
      "aaa\n"
     ]
    }
   ],
   "source": [
    "a = 'aaa'\n",
    "\n",
    "b = a\n",
    "\n",
    "a += 'bbb'\n",
    "\n",
    "print(b)"
   ]
  },
  {
   "cell_type": "code",
   "execution_count": 19,
   "id": "ba35f2eb-fa35-4fdd-a560-317620be419a",
   "metadata": {},
   "outputs": [
    {
     "data": {
      "text/plain": [
       "str"
      ]
     },
     "execution_count": 19,
     "metadata": {},
     "output_type": "execute_result"
    }
   ],
   "source": [
    "type(a)"
   ]
  },
  {
   "cell_type": "code",
   "execution_count": 20,
   "id": "69f09294-82bc-4fbe-9bc5-fd58a40275bf",
   "metadata": {},
   "outputs": [
    {
     "data": {
      "text/plain": [
       "7"
      ]
     },
     "execution_count": 20,
     "metadata": {},
     "output_type": "execute_result"
    }
   ],
   "source": [
    "4^3"
   ]
  },
  {
   "cell_type": "code",
   "execution_count": 21,
   "id": "1124b571-4266-46f0-a737-70169f76c476",
   "metadata": {},
   "outputs": [
    {
     "data": {
      "text/plain": [
       "'0b100'"
      ]
     },
     "execution_count": 21,
     "metadata": {},
     "output_type": "execute_result"
    }
   ],
   "source": [
    "bin(4)\n"
   ]
  },
  {
   "cell_type": "code",
   "execution_count": 22,
   "id": "348e6043-1ba9-4bd5-8f16-1362f59fc911",
   "metadata": {},
   "outputs": [
    {
     "data": {
      "text/plain": [
       "'0b11'"
      ]
     },
     "execution_count": 22,
     "metadata": {},
     "output_type": "execute_result"
    }
   ],
   "source": [
    "bin(3)\n"
   ]
  },
  {
   "cell_type": "code",
   "execution_count": 23,
   "id": "47d7f623-6514-4f01-b094-63e4f8daa58c",
   "metadata": {},
   "outputs": [
    {
     "ename": "TypeError",
     "evalue": "unsupported operand type(s) for ^: 'str' and 'str'",
     "output_type": "error",
     "traceback": [
      "\u001b[31m---------------------------------------------------------------------------\u001b[39m",
      "\u001b[31mTypeError\u001b[39m                                 Traceback (most recent call last)",
      "\u001b[36mCell\u001b[39m\u001b[36m \u001b[39m\u001b[32mIn[23]\u001b[39m\u001b[32m, line 1\u001b[39m\n\u001b[32m----> \u001b[39m\u001b[32m1\u001b[39m \u001b[38;5;28;43mbin\u001b[39;49m\u001b[43m(\u001b[49m\u001b[32;43m4\u001b[39;49m\u001b[43m)\u001b[49m\u001b[43m \u001b[49m\u001b[43m^\u001b[49m\u001b[43m \u001b[49m\u001b[38;5;28;43mbin\u001b[39;49m\u001b[43m(\u001b[49m\u001b[32;43m3\u001b[39;49m\u001b[43m)\u001b[49m\n",
      "\u001b[31mTypeError\u001b[39m: unsupported operand type(s) for ^: 'str' and 'str'"
     ]
    }
   ],
   "source": [
    "bin(4) ^ bin(3)"
   ]
  },
  {
   "cell_type": "code",
   "execution_count": 24,
   "id": "b6299bf6-db87-4011-9561-bceca46581bd",
   "metadata": {},
   "outputs": [
    {
     "data": {
      "text/plain": [
       "False"
      ]
     },
     "execution_count": 24,
     "metadata": {},
     "output_type": "execute_result"
    }
   ],
   "source": [
    "False and False"
   ]
  },
  {
   "cell_type": "code",
   "execution_count": 25,
   "id": "4e124a88-738d-4960-9e24-3f2be6a40a52",
   "metadata": {},
   "outputs": [
    {
     "data": {
      "text/plain": [
       "3"
      ]
     },
     "execution_count": 25,
     "metadata": {},
     "output_type": "execute_result"
    }
   ],
   "source": [
    "13//4\n"
   ]
  },
  {
   "cell_type": "code",
   "execution_count": 26,
   "id": "e6f7d03c-a8ca-4da8-9e09-564e61b70b9e",
   "metadata": {},
   "outputs": [
    {
     "name": "stdout",
     "output_type": "stream",
     "text": [
      "aaadddccc\n"
     ]
    }
   ],
   "source": [
    "x = 'aaabbbccc'\n",
    "xx = x.replace('b', 'd')\n",
    "print(xx)"
   ]
  },
  {
   "cell_type": "code",
   "execution_count": 27,
   "id": "bdd4d764-28f7-4295-985a-dc35c3f654ca",
   "metadata": {},
   "outputs": [
    {
     "data": {
      "text/plain": [
       "True"
      ]
     },
     "execution_count": 27,
     "metadata": {},
     "output_type": "execute_result"
    }
   ],
   "source": [
    "bool(\" \") \n"
   ]
  },
  {
   "cell_type": "code",
   "execution_count": 28,
   "id": "9e730de6-e58f-45be-a90e-35a5f01d9269",
   "metadata": {},
   "outputs": [
    {
     "data": {
      "text/plain": [
       "False"
      ]
     },
     "execution_count": 28,
     "metadata": {},
     "output_type": "execute_result"
    }
   ],
   "source": [
    "bool([ ]) "
   ]
  },
  {
   "cell_type": "code",
   "execution_count": 29,
   "id": "87e5691f-6a57-4c6e-94fb-6b9eb596780c",
   "metadata": {},
   "outputs": [
    {
     "data": {
      "text/plain": [
       "False"
      ]
     },
     "execution_count": 29,
     "metadata": {},
     "output_type": "execute_result"
    }
   ],
   "source": [
    "bool(5-5)"
   ]
  },
  {
   "cell_type": "code",
   "execution_count": 30,
   "id": "dca17471-4fe3-4d46-a431-44f9bc29ad67",
   "metadata": {},
   "outputs": [
    {
     "data": {
      "text/plain": [
       "True"
      ]
     },
     "execution_count": 30,
     "metadata": {},
     "output_type": "execute_result"
    }
   ],
   "source": [
    "bool([0])"
   ]
  },
  {
   "cell_type": "code",
   "execution_count": 31,
   "id": "932d7635-665a-4653-882c-9ef0f10ad584",
   "metadata": {},
   "outputs": [
    {
     "name": "stdout",
     "output_type": "stream",
     "text": [
      "True\n"
     ]
    }
   ],
   "source": [
    "x = ['a', 'b', 'c']\n",
    "\n",
    "y = [\"a\", \"b\", \"c\"]\n",
    "\n",
    "print(x == y)"
   ]
  },
  {
   "cell_type": "code",
   "execution_count": 36,
   "id": "062cbbb6-570e-48f1-8b86-344dc5b68e72",
   "metadata": {},
   "outputs": [
    {
     "name": "stdout",
     "output_type": "stream",
     "text": [
      "['a', ['e', 'f', 'g'], 'c']\n"
     ]
    }
   ],
   "source": [
    "x = ['a', ['e', 'f'], 'c']\n",
    "y = x.copy()\n",
    "x[1].append('g')\n",
    "print(y)"
   ]
  },
  {
   "cell_type": "code",
   "execution_count": 38,
   "id": "c0431db9-22bd-4d07-aab6-f352f48d378c",
   "metadata": {},
   "outputs": [
    {
     "data": {
      "text/plain": [
       "'0b11'"
      ]
     },
     "execution_count": 38,
     "metadata": {},
     "output_type": "execute_result"
    }
   ],
   "source": [
    "bin(3)"
   ]
  },
  {
   "cell_type": "code",
   "execution_count": 39,
   "id": "25a889d8-9d36-40f6-8b05-3205ffe54222",
   "metadata": {},
   "outputs": [
    {
     "data": {
      "text/plain": [
       "'0b100'"
      ]
     },
     "execution_count": 39,
     "metadata": {},
     "output_type": "execute_result"
    }
   ],
   "source": [
    "bin(4)"
   ]
  },
  {
   "cell_type": "markdown",
   "id": "7ff479cb-8301-4d3d-8c37-488301ed7368",
   "metadata": {},
   "source": [
    "### a = [1, 2, 3]\n",
    "\n",
    "b = a\n",
    "\n",
    "print(a is b)"
   ]
  },
  {
   "cell_type": "code",
   "execution_count": 41,
   "id": "49daad85-47a9-4a70-9b90-663862cac1ef",
   "metadata": {},
   "outputs": [
    {
     "data": {
      "text/plain": [
       "3"
      ]
     },
     "execution_count": 41,
     "metadata": {},
     "output_type": "execute_result"
    }
   ],
   "source": [
    "13//4"
   ]
  },
  {
   "cell_type": "code",
   "execution_count": 43,
   "id": "12f2290c-3162-4705-9e50-8570ae60bc4a",
   "metadata": {},
   "outputs": [
    {
     "name": "stdout",
     "output_type": "stream",
     "text": [
      "aaadddccc\n"
     ]
    }
   ],
   "source": [
    "x = 'aaabbbccc'\n",
    "\n",
    "xx = x.replace('b', 'd')\n",
    "\n",
    "print(xx)"
   ]
  },
  {
   "cell_type": "code",
   "execution_count": 44,
   "id": "bb72ee99-72ae-4dc7-bfb4-bf0677130f85",
   "metadata": {},
   "outputs": [
    {
     "data": {
      "text/plain": [
       "True"
      ]
     },
     "execution_count": 44,
     "metadata": {},
     "output_type": "execute_result"
    }
   ],
   "source": [
    "bool(\" \") "
   ]
  },
  {
   "cell_type": "code",
   "execution_count": 45,
   "id": "8bb1f51f-7353-4932-8a20-34e4768a581d",
   "metadata": {},
   "outputs": [
    {
     "data": {
      "text/plain": [
       "False"
      ]
     },
     "execution_count": 45,
     "metadata": {},
     "output_type": "execute_result"
    }
   ],
   "source": [
    "bool([ ]) \n"
   ]
  },
  {
   "cell_type": "code",
   "execution_count": 46,
   "id": "9eb6bb53-ef1b-4937-84f2-66ad01191d0b",
   "metadata": {},
   "outputs": [
    {
     "data": {
      "text/plain": [
       "False"
      ]
     },
     "execution_count": 46,
     "metadata": {},
     "output_type": "execute_result"
    }
   ],
   "source": [
    "bool(5-5) "
   ]
  },
  {
   "cell_type": "code",
   "execution_count": 47,
   "id": "38735ce1-05b2-4400-a407-d029eec7c022",
   "metadata": {},
   "outputs": [
    {
     "data": {
      "text/plain": [
       "True"
      ]
     },
     "execution_count": 47,
     "metadata": {},
     "output_type": "execute_result"
    }
   ],
   "source": [
    "bool([ 0 ]) "
   ]
  },
  {
   "cell_type": "code",
   "execution_count": 48,
   "id": "d235b691-62c6-49fc-9a1f-b41ccfa47688",
   "metadata": {},
   "outputs": [
    {
     "name": "stdout",
     "output_type": "stream",
     "text": [
      "True\n"
     ]
    }
   ],
   "source": [
    "x = ['a', 'b', 'c']\n",
    "\n",
    "y = [\"a\", \"b\", \"c\"]\n",
    "\n",
    "print(x == y)"
   ]
  },
  {
   "cell_type": "code",
   "execution_count": 53,
   "id": "8e68c773-5682-4cf3-8ea9-4d2876958d50",
   "metadata": {},
   "outputs": [
    {
     "ename": "SyntaxError",
     "evalue": "unterminated string literal (detected at line 1) (3905520815.py, line 1)",
     "output_type": "error",
     "traceback": [
      "  \u001b[36mCell\u001b[39m\u001b[36m \u001b[39m\u001b[32mIn[53]\u001b[39m\u001b[32m, line 1\u001b[39m\n\u001b[31m    \u001b[39m\u001b[31mprint('I said: \"I/'d like to go\"')\u001b[39m\n                                   ^\n\u001b[31mSyntaxError\u001b[39m\u001b[31m:\u001b[39m unterminated string literal (detected at line 1)\n"
     ]
    }
   ],
   "source": [
    "print('I said: \"I/'d like to go\"') "
   ]
  },
  {
   "cell_type": "code",
   "execution_count": 54,
   "id": "a745d7ef-2e6b-402f-b5e3-602a28f3b826",
   "metadata": {},
   "outputs": [
    {
     "name": "stdout",
     "output_type": "stream",
     "text": [
      "I said: \"I'd like to go!\"\n"
     ]
    }
   ],
   "source": [
    "print('I said: \"I\\'d like to go!\"')"
   ]
  },
  {
   "cell_type": "code",
   "execution_count": null,
   "id": "50054ff0-b9b3-4d2a-b3c0-cf58fa70b40b",
   "metadata": {},
   "outputs": [],
   "source": []
  }
 ],
 "metadata": {
  "kernelspec": {
   "display_name": "Python 3 (ipykernel)",
   "language": "python",
   "name": "python3"
  },
  "language_info": {
   "codemirror_mode": {
    "name": "ipython",
    "version": 3
   },
   "file_extension": ".py",
   "mimetype": "text/x-python",
   "name": "python",
   "nbconvert_exporter": "python",
   "pygments_lexer": "ipython3",
   "version": "3.13.7"
  }
 },
 "nbformat": 4,
 "nbformat_minor": 5
}
